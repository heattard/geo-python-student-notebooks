{
 "cells": [
  {
   "cell_type": "markdown",
   "metadata": {
    "editable": true,
    "slideshow": {
     "slide_type": ""
    },
    "tags": []
   },
   "source": [
    "# Plotting with pandas and matplotlib\n",
    "\n",
    "At this point we are familiar with some of the features of pandas and explored some very basic data visualizations at the [end of Chapter 3](../../chapter-03/nb/03-temporal-data.ipynb). Now, we will wade into visualizing our data in more detail, starting by using the built-in plotting options available directly in pandas. Much like the case of pandas being built upon numpy, plotting in pandas takes advantage of plotting features from the `matplotlib` [^matplotlib] plotting library. Plotting in pandas provides a basic framework for quickly visualizing our data, but as you'll see we will need to also use features from matplotlib for more advanced formatting and to enhance our plots. In particular, we will use features from the the `pyplot` [^pyplot] module in matplotlib, which provides MATLAB-like [^matlab] plotting. We will also briefly explore creating interactive plots using the `hvplot` [^hvplot] plotting library, which allows us to produce plots similar to those available in the `bokeh` plotting library [^bokeh] using plotting syntax very similar to that in pandas."
   ]
  },
  {
   "cell_type": "markdown",
   "metadata": {
    "tags": []
   },
   "source": [
    "## Creating a basic x-y plot\n",
    "\n",
    "The first step for creating a basic x-y plot is to import `pandas` and read in the data we want to plot from a file. We will be using a `datetime` index for our weather observation data as we [learned in Chapter 3](/part1/chapter-03/nb/03-temporal-data.ipynb). In this case, however, we'll include a few additional parameters in order to read the data with a `datetime` index. We will read in the data first and then discuss what happened.\n",
    "\n",
    "Let's start by importing the libraries we will need (`pandas` and `matplotlib`) and then read in the data."
   ]
  },
  {
   "cell_type": "code",
   "execution_count": null,
   "metadata": {},
   "outputs": [],
   "source": [
    "import pandas as pd\n",
    "import numpy as np\n",
    "import matplotlib.pyplot as plt\n",
    "\n",
    "fp = \"data/029740.txt\"\n",
    "\n",
    "data = pd.read_csv(\n",
    "    fp,\n",
    "    sep=r\"\\s+\",\n",
    "    na_values=[\"*\", \"**\", \"***\", \"****\", \"*****\", \"******\"],\n",
    "    usecols=[\"YR--MODAHRMN\", \"TEMP\", \"MAX\", \"MIN\"],\n",
    "    parse_dates=[\"YR--MODAHRMN\"],\n",
    "   #index_col=\"YR--MODAHRMN\",\n",
    ")"
   ]
  },
  {
   "cell_type": "markdown",
   "metadata": {},
   "source": [
    "Having read in the data file, we can now have a quick look at what we have using `data.head()`."
   ]
  },
  {
   "cell_type": "code",
   "execution_count": null,
   "metadata": {},
   "outputs": [],
   "source": []
  },
  {
   "cell_type": "markdown",
   "metadata": {},
   "source": [
    "So, let us now examining what is different here compared to files read in Chapter 3. There are two significant changes in the form of two new parameters: `parse_dates` and `index_col`.\n",
    "\n",
    "- `parse_dates` takes a Python list of column name(s) for data file columns that contain date data and `pandas` will parse and convert data in these column(s) to the `datetime` data type. For many common date formats `pandas` will automatically recognize and convert the date data.\n",
    "- `index_col` is used to state a column that should be used to index the data in the `DataFrame`. If we ran this, we would end up with our date data as the `DataFrame` index. This is a very useful feature in `pandas` as we will see below.\n",
    "  > Note that we did not do this becuase I want to use some useful parts of datetime that don't work when we make it the index"
   ]
  },
  {
   "cell_type": "markdown",
   "metadata": {},
   "source": [
    "First, let's look at what times are included in this dataset"
   ]
  },
  {
   "cell_type": "code",
   "execution_count": null,
   "metadata": {},
   "outputs": [],
   "source": []
  },
  {
   "cell_type": "markdown",
   "metadata": {},
   "source": [
    "There is a ton of missing data in this file, so let's just grab data from 2009 onward "
   ]
  },
  {
   "cell_type": "code",
   "execution_count": null,
   "metadata": {},
   "outputs": [],
   "source": []
  },
  {
   "cell_type": "markdown",
   "metadata": {},
   "source": [
    "As mentioned above, you can now see that the index column for our `DataFrame` (the first column) contains date values related to each row in the `DataFrame`. \n",
    "\n",
    "Take a look at the shape of the data to see what we are dealing with."
   ]
  },
  {
   "cell_type": "code",
   "execution_count": null,
   "metadata": {},
   "outputs": [],
   "source": []
  },
  {
   "cell_type": "markdown",
   "metadata": {},
   "source": [
    "How many rows is that?! That's A LOT of data (I'm so glad we're not usinge excel!)\n",
    "\n",
    "Now look at the shape of the original data we read in"
   ]
  },
  {
   "cell_type": "code",
   "execution_count": null,
   "metadata": {},
   "outputs": [],
   "source": []
  },
  {
   "cell_type": "markdown",
   "metadata": {},
   "source": [
    "How much data did we cut out?"
   ]
  },
  {
   "cell_type": "code",
   "execution_count": null,
   "metadata": {},
   "outputs": [],
   "source": []
  },
  {
   "cell_type": "markdown",
   "metadata": {},
   "source": [
    "With this we are already able to create our first plot using `pandas`. We will start by using the basic line plot in `pandas` to visualize at our temperature data."
   ]
  },
  {
   "cell_type": "code",
   "execution_count": null,
   "metadata": {},
   "outputs": [],
   "source": []
  },
  {
   "cell_type": "markdown",
   "metadata": {},
   "source": [
    "_**Figure 4.3**. A basic plot of the example temperature data using Matplotlib._\n",
    "\n",
    "Now, let's break down what just happened. \n",
    "\n",
    "1. We first created the plot object using the `.plot()` method of the `data` `DataFrame`. Without any parameters given, this makes the plot of all columns in the `DataFrame` as lines of different color on the y-axis with the index, time in this case, on the x-axis.\n",
    "2. In case we want to be able to modify the plot or add anything to it after the basic plot has been created, we assign the plot object to the variable `ax`. Why don't we check its data type below using the `type()` function."
   ]
  },
  {
   "cell_type": "code",
   "execution_count": null,
   "metadata": {},
   "outputs": [],
   "source": []
  },
  {
   "cell_type": "markdown",
   "metadata": {},
   "source": [
    "OK, so this is a data type we have **not** seen previously, but clearly it is part of `matplotlib`. In case you were skeptical before, we now have evidence that `pandas` is using `matplotlib` for generating plots."
   ]
  },
  {
   "cell_type": "markdown",
   "metadata": {},
   "source": [
    "### Selecting plot data based on date\n",
    "\n",
    "Now we can make a few small changes to our plot to further explore plotting with `pandas`. We can begin by plotting only the observed temperatures in the `data['TEMP']` column. In addition, we can restrict ourselves to observations from only the afternoon of October 1, 2019 (the last day in this data set). We will do this by first creating a `pandas` `Series` for only the desired data column and restricting the date of interest. Once we have created the new `pandas` `Series` we can plot the results."
   ]
  },
  {
   "cell_type": "code",
   "execution_count": null,
   "metadata": {},
   "outputs": [],
   "source": [
    "# Create basic plot with subset of data\n"
   ]
  },
  {
   "cell_type": "markdown",
   "metadata": {},
   "source": [
    "_**Figure 4.4**. A plot of the example temperature data for the afternoon of October 1, 2019._\n",
    "\n",
    "So, what did we change this time? \n",
    "1. We selected only the `'TEMP'` column from the `subset` `DataFrame` by using `subset['TEMP']` instead of `subset`.\n",
    "2. We added a restriction to the date range using `.loc[]` to select only rows where the index value `data.index` is greater than `np.datetime64('2019-10-01T12:00')`. We have to do this because when we read in the date/time data we used `parse_dates` which sets it to the `np.datetime64` type.  *This is also why we had to import `numpy as np` at the top*\n",
    "   > Note that `np.datetime64()` takes a *string* as its argument of the format: `YYYY-MM-DDTHH:MM:SS` and you can leave off the time if you don't need it and do a lot of powerful things. More information on [np.datetime64](https://numpy.org/doc/stable/reference/arrays.datetime.html)\n",
    "4. Finally, by saving this selection to the variable `oct1_temps` we're able to now use `oct1_temps.plot()` to plot only our selection. As you can see, we are able to easily control the values plotted in `pandas`, but we can do even better."
   ]
  },
  {
   "cell_type": "markdown",
   "metadata": {},
   "source": [
    "## Basic plot formatting\n",
    "\n",
    "We can control the appearance of our plots, making them look nicer and provide more information by using a few additional plotting options available in `pandas` and/or `matplotlib`. Let's start by changing the line format, adding some axis labels, and adding a title."
   ]
  },
  {
   "cell_type": "code",
   "execution_count": null,
   "metadata": {},
   "outputs": [],
   "source": [
    "# Change line and symbol format, and add axis labels/title\n",
    "# Change line and symbol format, and add axis labels/title\n",
    "ax = oct1_temps.plot(\n",
    "    style=\"ro--\",\n",
    "    title=\"Helsinki-Vantaa temperatures\",\n",
    "    xlabel=\"Date and time\",\n",
    "    ylabel=\"Temperature [°F]\",\n",
    ")"
   ]
  },
  {
   "cell_type": "markdown",
   "metadata": {},
   "source": [
    "_**Figure 4.5**. A plot of the example temperature data with additional formatting, a title, and axis labels._\n",
    "\n",
    "Now we see that our temperature data as a black dashed line with circles indicating the temperature values from the data file. This comes from the additional parameter `style='ko--'`. In this case, `k` tells the `oct1_temps.plot()` function to use black color for the lines and symbols, `o` tells it to show circles at the data points, and `--` says to use a dashed line between points. You can use `help(oct1_temps.plot)` to find out more about formatting plots. We have also added a title using the `title` parameter, and axis labels using the `xlabel` and `ylabel` parameters."
   ]
  },
  {
   "cell_type": "markdown",
   "metadata": {},
   "source": [
    "## Further formatting the plot and figure\n",
    "\n",
    "In addition to labeling the plot axes and adding a title, there are several other common plot attributes one might like to utilize. We briefly present some of the most common plot features here and then demonstrate how they work in a modified example plot below."
   ]
  },
  {
   "cell_type": "markdown",
   "metadata": {},
   "source": [
    "### Changing the figure size\n",
    "\n",
    "While the default plot sizes we're working with are fine, it is often helpful to be able to control the figure size. Fortunately, there is an easy way to change the figure size in `pandas` and `matplotlib`. In order to define the figure size, we simply include the `figsize` parameter with a tuple (set of values in normal parentheses) that lists the width and height of the figure (in inches!).\n",
    "\n",
    "For example, adding the parameter\n",
    "\n",
    "```python\n",
    "figsize=(12, 6)\n",
    "```\n",
    "to the `ax.plot()` function will increase the figure size to be 12 inches wide and 6 inches tall.\n",
    "\n",
    "Note that it is also possible to change the default figure size for all figures in a Jupyter Notebook by importing the `pyplot` module from `matplotlib` (i.e., `import matplotlib.pyplot as plt`)and then defining the default figure size using `plt.rcParams['figure.figsize'] = [12, 6]`. In this case the figure size should be given as a Python `list`."
   ]
  },
  {
   "cell_type": "markdown",
   "metadata": {},
   "source": [
    "### Adding text to the figure\n",
    "\n",
    "It is also possible to add text that can be displayed on a plot using `ax.text()`. For example, \n",
    "\n",
    "```python\n",
    "ax.plot(...)\n",
    "x, y = np.datetime64('2019-10-01T18:00'), 42\n",
    "ax.text(x, y, \"This is my text.\")\n",
    "```\n",
    "\n",
    "would add the text \"This is my text.\" aligned to the left starting from the date and time 6:00 pm on October 1, 2019 (`x=np.datetime64('2019-10-01T12:00')`) and at temperature `y=42`. Notice that the `x` coordinate is passed as a numpy datetime following the formatting in the original data."
   ]
  },
  {
   "cell_type": "markdown",
   "metadata": {},
   "source": [
    "### Changing the axis ranges\n",
    "\n",
    "In some cases you may want to plot only a subset of the data you are working with. You can modify the range of values that are plotted by definiing the axis ranges. Changing the plot axes can be done using the `xlim` and `ylim` parameters of the `.vplot()` function, where `xmin` is the minimum bound of the x-axis, `xmax` is the maximum bound, and the same goes for the y-axis with `ymin` and `ymax`. For example, adding\n",
    "\n",
    "```python\n",
    "ax.plot(\n",
    "    ...\n",
    "    xlim=[np.datetime64('2019-10-01T15:00'), np.datetime64('2019-10-01T22:00')],\n",
    "    ylim=[38, 44]\n",
    ")\n",
    "```\n",
    "\n",
    "to the parameter list for `ax.plot()` would change the x-axis range to 3:00 pm to 10:00 pm on October 1, 2019 and the y-axis range to 38 to 44 degrees.\n",
    "\n",
    "Defining axis ranges this way is handy because it will adjust the range of values shown on the plot, but not alter the source data in any way. This can be quite nice when exploring your data sets."
   ]
  },
  {
   "cell_type": "markdown",
   "metadata": {},
   "source": [
    "### Adding a legend\n",
    "\n",
    "The final example of a common plot feature we can add is a legend. The legend allows you to provide some additional information about the lines, points, or other features of a plot, and adding a legend is quite simple. To do so, we need to add two things: a `label` parameter in the `.plot()` function that lists the text that should be displayed in the legend, and a call to the `.legend()` function to display the plot legend. For example, adding the following to the plot will add and display a legend.\n",
    "\n",
    "```python\n",
    "ax.plot(\n",
    "    ...\n",
    "    label=\"Observed temperature\"\n",
    ")\n",
    "ax.legend()\n",
    "```\n",
    "\n",
    "This would add the label \"Observed temperature\" to the legend for the line formatted using the `ax.plot()` function. The legend can be displayed by adding `ax.legend()` to the code.\n",
    "\n",
    "Note that by default the legend will automatically be positioned in the top right corner of a plot, or in a location where it minimizes interference with other plot elements. The location of the legend can be controlled using the `loc` parameter in the call to the `.legend()` function. The [`matplotlib` documentation](https://matplotlib.org/stable/api/_as_gen/matplotlib.pyplot.legend.html) [^matplotlib-legend] contains more information about how to control the location of the plot legend."
   ]
  },
  {
   "cell_type": "markdown",
   "metadata": {},
   "source": [
    "### The modified example plot\n",
    "\n",
    "Based on the additions above (changing the figure size, adding text to the plot, etc.), the modified plot can be generated using the code below."
   ]
  },
  {
   "cell_type": "code",
   "execution_count": null,
   "metadata": {},
   "outputs": [],
   "source": [
    "# Use xlim and ylim to define the axis ranges\n",
    "start_time = np.datetime64(\"2019-10-01T12:00\")\n",
    "end_time = np.datetime64(\"2019-10-01T15:00\")\n",
    "cold_time = np.datetime64(\"2019-10-01T12:05\")\n",
    "\n",
    "# Create plot\n",
    "ax = oct1_temps.plot(\n",
    "    style=\"ro--\",\n",
    "    title=\"Helsinki-Vantaa temperatures\",\n",
    "    xlabel=\"Date and time\",\n",
    "    ylabel=\"Temperature [°F]\",\n",
    "    figsize=(12, 6),\n",
    "    xlim=[start_time, end_time],\n",
    "    ylim=[40.0, 46.0],\n",
    "    label=\"Observed temperature\"\n",
    ")\n",
    "\n",
    "# Add text to plot\n",
    "ax.text(cold_time, 42.0, \"<- Coldest temperature in early afternoon\")\n",
    "\n",
    "# Display plot legend\n",
    "ax.legend()"
   ]
  },
  {
   "cell_type": "markdown",
   "metadata": {},
   "source": [
    "_**Figure 4.6**. A plot of the example temperature data further modified with additional formatting and reduced axis ranges._\n",
    "\n",
    "As you can see, we now have a more informative plot with only a few changes in the plotting code."
   ]
  },
  {
   "cell_type": "markdown",
   "metadata": {},
   "source": [
    "### Check your understanding\n",
    "\n",
    "Create a line plot similar to our examples above with the following attributes:\n",
    "    \n",
    "- Temperature data from 18:00-24:00 on October 1, 2019\n",
    "- A dotted black line connecting the observations (do not show the data points)\n",
    "- A title that reads \"Evening temperatures on October 1, Helsinki-Vantaa\"\n",
    "- A text label indicating the warmest temperature in the evening"
   ]
  },
  {
   "cell_type": "code",
   "execution_count": null,
   "metadata": {},
   "outputs": [],
   "source": [
    "# Use this cell to enter your solution.\n",
    "# Define start, end, and cold times\n"
   ]
  },
  {
   "cell_type": "markdown",
   "metadata": {},
   "source": [
    "## Bar plots in pandas\n",
    "\n",
    "In addition to line plots, there are many other options for plotting in `pandas`.\n",
    "Bar plots are one option, which can be used quite similarly to line plots with the addition of the `kind=bar` parameter.\n",
    "Note that it is easiest to plot our selected time range for a bar plot by selecting the dates in our data `Series` first, rather than adjusting the plot limits. `pandas` sees bar plot data as categorical, so the date range is more difficult to define for x-axis limits. For the y-axis, we can still define its range using the `ylim=[ymin, ymax]` parameter. Similarly, text placement on a bar plot is more difficult, and most easily done using the index value of the bar where the text should be placed."
   ]
  },
  {
   "cell_type": "code",
   "execution_count": null,
   "metadata": {},
   "outputs": [],
   "source": [
    "oct1_afternoon = oct1_temps.loc[oct1_temps.index <= np.datetime64(\"2019-10-01T15:00\")]\n",
    "\n",
    "# Plot temperature data as a bar plot\n",
    "ax = oct1_afternoon.plot(\n",
    "    kind=\"bar\",\n",
    "    title=\"Helsinki-Vantaa temperatures\",\n",
    "    xlabel=\"Date and time\",\n",
    "    ylabel=\"Temperature [°F]\",\n",
    "    figsize=(12, 6),\n",
    "    ylim=[40, 46],\n",
    ")\n",
    "\n",
    "# Add text to plot\n",
    "ax.text(0, 42.1, \"Coldest temp\",ha='center') #I added the horiontal alignment which moves where the text is justified"
   ]
  },
  {
   "cell_type": "markdown",
   "metadata": {},
   "source": [
    "_**Figure 4.8**. A bar plot using pandas with the example temperature data._\n",
    "\n",
    "You can find more about how to format bar charts on the [`pandas` documentation website](https://pandas.pydata.org/pandas-docs/stable/reference/api/pandas.DataFrame.plot.bar.html) [^pandas-docs]."
   ]
  },
  {
   "cell_type": "markdown",
   "metadata": {},
   "source": [
    "## Saving your plots as image files\n",
    "\n",
    "Saving plots created using `pandas` can be done in several ways.\n",
    "The recommendation for use outside of Jupyter Notebooks is to use the `plt.savefig()` function from `matplotlib`.\n",
    "When using `plt.savefig()`, you simply give a list of commands to generate a plot and include `plt.savefig()` with some parameters as the last command in the Python cell.\n",
    "The file name is required, and the image format will be determined based on the listed file extension.\n",
    "\n",
    "`matplotlib` plots can be saved in a number of useful file formats, including PNG, PDF, and EPS.\n",
    "PNG is a nice format for raster images, and EPS is probably easiest to use for vector graphics.\n",
    "Let's check out an example of how to save our lovely bar plot."
   ]
  },
  {
   "cell_type": "code",
   "execution_count": null,
   "metadata": {},
   "outputs": [],
   "source": [
    "oct1_afternoon = oct1_temps.loc[oct1_temps.index <= np.datetime64(\"2019-10-01T15:00\")]\n",
    "\n",
    "ax = oct1_afternoon.plot(\n",
    "    kind=\"bar\",\n",
    "    title=\"Helsinki-Vantaa temperatures\",\n",
    "    xlabel=\"Date\",\n",
    "    ylabel=\"Temperature [°F]\",\n",
    "    ylim=[40, 46],\n",
    "    label=\"Observed temperature\",\n",
    "    figsize=(12, 6),\n",
    ")\n",
    "\n",
    "ax.text(0, 42.1, \"Coldest temp\",ha='center') #I added the horiontal alignment which moves where the text is justifiedax.legend()\n",
    "\n",
    "# Write figure to PNG file\n",
    "plt.savefig(\"bar-plot.png\")"
   ]
  },
  {
   "cell_type": "markdown",
   "metadata": {},
   "source": [
    "The commands above both plot the figure and save a copy in a raster image titled `bar-plot.png`. You should now see the  plot file in the file browser on the left side of the notebook window.\n",
    "\n",
    "Just to demonstrate once again, we can save another version of the plot at a higher resolution with a minor change to the plot commands above."
   ]
  },
  {
   "cell_type": "code",
   "execution_count": null,
   "metadata": {},
   "outputs": [],
   "source": [
    "oct1_afternoon = oct1_temps.loc[oct1_temps.index <= np.datetime64(\"2019-10-01T15:00\")]\n",
    "\n",
    "ax = oct1_afternoon.plot(\n",
    "    kind=\"bar\",\n",
    "    title=\"Helsinki-Vantaa temperatures\",\n",
    "    xlabel=\"Date\",\n",
    "    ylabel=\"Temperature [°F]\",\n",
    "    ylim=[40, 46],\n",
    "    label=\"Observed temperature\",\n",
    "    figsize=(12, 6),\n",
    ")\n",
    "\n",
    "ax.text(0, 42.1, \"Coldest temp\",ha='center') #I added the horiontal alignment which moves where the text is justifiedax.legend()\n",
    "\n",
    "\n",
    "# Write figure to PDF file with 600 dpi resolution\n",
    "plt.savefig(\"bar-plot-hi-res.pdf\", dpi=600)"
   ]
  },
  {
   "cell_type": "markdown",
   "metadata": {},
   "source": [
    "This has saveed the output plot as a PDF file with a resolution of 600 dots per inch."
   ]
  },
  {
   "cell_type": "markdown",
   "metadata": {},
   "source": [
    "## Interactive plotting, a teaser\n",
    "\n",
    "We have seen in the previous parts of this chapter that there are many ways to configure and visualize data using Python. Up to this point, however, we have focused on static visualizations in Jupyter Notebooks or those saved as images. As you might imagine, there are numerous Python options to also create interactive visualizations that allow those viewing them to dive deeper into the data and explore. Interactive visualizations are increasingly popular online, and here we provide a brief example of how to create an interactive visualization using the data we have already plotted above. In this example, we will be using the `hvplot` library [^hvplot], which we will return to using later in Part 2 of this book.\n",
    "\n",
    "`hvplot` is a high-level plotting package that can accept several different common Python data types and plot them using using the `bokeh` visualization library [^bokeh]. The great thing with `hvplot` is that it takes almost no effort to move from plotting in `pandas` to creating interactive plots. We can explore this in the following example.\n",
    "\n",
    "Let us start by importing the `pandas` submodule of `hvplot`."
   ]
  },
  {
   "cell_type": "code",
   "execution_count": null,
   "metadata": {},
   "outputs": [],
   "source": [
    "import hvplot.pandas"
   ]
  },
  {
   "cell_type": "markdown",
   "metadata": {
    "editable": true,
    "slideshow": {
     "slide_type": ""
    },
    "tags": []
   },
   "source": [
    "With the submodule imported, we can simply take a slice of data from the `data` `DataFrame`, the month of July in 2014 in this example, and create a plot just as we would in `pandas`. The only difference here is that we will use the `.hvplot()` method rather than the `.plot()` method from `pandas`."
   ]
  },
  {
   "cell_type": "code",
   "execution_count": null,
   "metadata": {
    "editable": true,
    "slideshow": {
     "slide_type": ""
    },
    "tags": []
   },
   "outputs": [],
   "source": [
    "july2014_df = data[\"TEMP\"].loc[(data[\"YR--MODAHRMN\"] >= np.datetime64(\"2014-07-01T00:00\")) & (data[\"YR--MODAHRMN\"] < np.datetime64(\"2014-07-31T00:00\"))]\n",
    "\n",
    "july2014_df.hvplot(\n",
    "    title=\"Helsinki-Vantaa temperatures\",\n",
    "    xlabel=\"Date\",\n",
    "    ylabel=\"Temperature [°F]\",\n",
    "    ylim=[45.0, 90.0],\n",
    ")"
   ]
  },
  {
   "cell_type": "markdown",
   "metadata": {},
   "source": [
    "_**Figure 4.9**. An interactive plot example using hvPlot._\n",
    "\n",
    "Now we have an interactive line plot where the users can place their mouse cursor above the line to see the plotted values at a given location, zoom in and/or pan the plot to areas of interest, and click on the legend items to hide or display them. And as you can see, `hvplot` makes it very easy to start creating your own interactive plots from a `pandas` `DataFrame`.\n",
    "\n",
    "That is all we will explore for the moment, but you are welcome to have a look at the [`hvplot` User Guide](https://hvplot.holoviz.org/user_guide/index.html) [^hvplot_guide] to learn more about the types of visualizations available in `hvplot` and how to use them."
   ]
  }
 ],
 "metadata": {
  "kernelspec": {
   "display_name": "Python 3 (ipykernel)",
   "language": "python",
   "name": "python3"
  },
  "language_info": {
   "codemirror_mode": {
    "name": "ipython",
    "version": 3
   },
   "file_extension": ".py",
   "mimetype": "text/x-python",
   "name": "python",
   "nbconvert_exporter": "python",
   "pygments_lexer": "ipython3",
   "version": "3.13.1"
  },
  "pycharm": {
   "stem_cell": {
    "cell_type": "raw",
    "metadata": {
     "collapsed": false
    },
    "source": []
   }
  }
 },
 "nbformat": 4,
 "nbformat_minor": 4
}
